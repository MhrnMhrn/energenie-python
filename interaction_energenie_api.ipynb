{
 "cells": [
  {
   "cell_type": "code",
   "execution_count": 7,
   "metadata": {
    "collapsed": true
   },
   "outputs": [],
   "source": [
    "import os\n",
    "import sys\n",
    "from time import time\n",
    "from datetime import datetime\n",
    "import requests\n",
    "import datetime \n",
    "from requests.auth import HTTPBasicAuth\n",
    "import json"
   ]
  },
  {
   "cell_type": "code",
   "execution_count": null,
   "metadata": {},
   "outputs": [],
   "source": [
    "user_id={\n",
    "    \"username\":\"\",#Email of the account\n",
    "    \"password\":\"\"#password of the account\n",
    "}"
   ]
  },
  {
   "cell_type": "heading",
   "metadata": {},
   "level": 1,
   "source": [
    "Get the list fo the devices associated to the account"
   ]
  },
  {
   "cell_type": "code",
   "execution_count": 3,
   "metadata": {},
   "outputs": [],
   "source": [
    "REQUEST_LISTSUBDEVICES=\"https://mihome4u.co.uk/api/v1/device_groups/list\""
   ]
  },
  {
   "cell_type": "code",
   "execution_count": null,
   "metadata": {},
   "outputs": [],
   "source": [
    "request_get_listdevice=requests.get(REQUEST_LISTSUBDEVICES,auth=HTTPBasicAuth(user_id[\"username\"],user_id[\"password\"]))\n",
    "data_c=request_get_listdevice.json()[\"data\"]"
   ]
  },
  {
   "cell_type": "heading",
   "metadata": {},
   "level": 1,
   "source": [
    "Get the last 24 hour instant data from the API (limit of the historical data contains in the API)"
   ]
  },
  {
   "cell_type": "code",
   "execution_count": 9,
   "metadata": {},
   "outputs": [],
   "source": [
    "start_time=(datetime.datetime.now(datetime.timezone.utc)-datetime.timedelta(hours = 24)).strftime(\"%Y-%m-%d %H:%M:%S\")\n",
    "REQUEST_SUBDEVICESFETCHUSAGEDATA=\"https://mihome4u.co.uk/api/v1/subdevices/get_data\"\n",
    "dictparam_pastvalue={\n",
    "            \"id\": 2305,#id du sudevice\n",
    "            \"start_time\":start_time,#start time , start point of the collection of the historical data in this case 24 hours ago\n",
    "            \"end_time\": datetime.datetime.now(datetime.timezone.utc).strftime(\"%Y-%m-%d %H:%M:%S\"),#end_time , end point of the historical data in this case now\n",
    "            \"resolution\":\"instant\",#resolution instant to obtain the last instant measurements\n",
    "            \"data_type\":\"watts\",#data_type , parameter to collect the measurement could be watts (for the smart plug) of reported_temperature (for the smart trv)\n",
    "            \"limit\":86400#limit , maximal number of points to collect\n",
    "        }"
   ]
  },
  {
   "cell_type": "code",
   "execution_count": null,
   "metadata": {},
   "outputs": [],
   "source": [
    "request_get_historicalinstantdata= requests.post(REQUEST_SUBDEVICESFETCHUSAGEDATA,\n",
    "                                 auth=requests.auth.HTTPBasicAuth(self.username, self.pwd),data=json.dumps(dictparam_pastvalue),headers=h)"
   ]
  },
  {
   "cell_type": "code",
   "execution_count": null,
   "metadata": {},
   "outputs": [],
   "source": [
    ""
   ]
  }
 ],
 "metadata": {
  "kernelspec": {
   "display_name": "Python 2",
   "language": "python",
   "name": "python2"
  },
  "language_info": {
   "codemirror_mode": {
    "name": "ipython",
    "version": 2.0
   },
   "file_extension": ".py",
   "mimetype": "text/x-python",
   "name": "python",
   "nbconvert_exporter": "python",
   "pygments_lexer": "ipython2",
   "version": "2.7.6"
  }
 },
 "nbformat": 4,
 "nbformat_minor": 0
}